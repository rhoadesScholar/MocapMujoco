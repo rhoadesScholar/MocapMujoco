{
 "cells": [
  {
   "cell_type": "code",
   "execution_count": 1,
   "metadata": {},
   "outputs": [],
   "source": [
    "from __future__ import absolute_import\n",
    "from __future__ import division\n",
    "from __future__ import print_function\n",
    "\n",
    "import time\n",
    "\n",
    "from absl import app\n",
    "from absl import flags\n",
    "import collections\n",
    "\n",
    "from dm_control import mujoco\n",
    "from dm_control.rl import control\n",
    "from dm_control.suite import base\n",
    "from dm_control.suite import common\n",
    "from dm_control.suite.utils import randomizers\n",
    "from dm_control.utils import containers\n",
    "\n",
    "import scipy.io as sio\n",
    "import matplotlib\n",
    "matplotlib.use(\"Agg\")\n",
    "import matplotlib.animation as animation\n",
    "import matplotlib.pyplot as plt\n",
    "import numpy as np"
   ]
  },
  {
   "cell_type": "code",
   "execution_count": 9,
   "metadata": {},
   "outputs": [],
   "source": [
    "_DEFAULT_TIME_LIMIT = 20\n",
    "_CONTROL_SUBSTEPS = 100 #for use with control.Environment(... n_sub_steps=#)\n",
    "CONVERSION_LENGTH = 1000 #ASSUMES .MAT TO BE IN MILLIMETERS\n",
    "\n",
    "fileName='.\\\\demos\\\\ratMocapImputed'\n",
    "varName='markers_preproc'\n",
    "max_frame=33000\n",
    "start_frame=24000\n",
    "frame_step=100\n",
    "model_filename='rodent_mocap_tendon.xml'"
   ]
  },
  {
   "cell_type": "code",
   "execution_count": 3,
   "metadata": {},
   "outputs": [],
   "source": [
    "def get_model_and_assets():\n",
    "  \"\"\"Returns a tuple containing the model XML string and a dict of assets.\"\"\"\n",
    "  return common.read_model(model_filename), common.ASSETS"
   ]
  },
  {
   "cell_type": "code",
   "execution_count": 10,
   "metadata": {},
   "outputs": [],
   "source": [
    "class jeffRat(base.Task):\n",
    "    def __init__(self, random=None):\n",
    "        super(jeffRat, self).__init__(random=random)\n",
    "    def initialize_episode(self, physics):\n",
    "        penetrating = True\n",
    "        while penetrating:\n",
    "            randomizers.randomize_limited_and_rotational_joints(\n",
    "                physics, self.random)\n",
    "            physics.after_reset()\n",
    "            penetrating = physics.data.ncon > 0\n",
    "    def get_observation(self, physics):\n",
    "        obs = collections.OrderedDict()\n",
    "        obs['joint_angles'] = physics.joint_angles()\n",
    "        return obs\n",
    "    def mocap(time_limit=_DEFAULT_TIME_LIMIT, random=None, environment_kwargs=None):\n",
    "        physics = mujoco.Physics.from_xml_string(*get_model_and_assets())\n",
    "        task = jeffRat(random=random)\n",
    "        environment_kwargs = environment_kwargs or {}\n",
    "        return control.Environment(\n",
    "            physics, task, time_limit=time_limit, n_sub_steps=_CONTROL_SUBSTEPS,\n",
    "            **environment_kwargs)\n",
    "    def get_reward(self, physics):\n",
    "        return 0"
   ]
  },
  {
   "cell_type": "code",
   "execution_count": 11,
   "metadata": {},
   "outputs": [],
   "source": [
    "def parse(fileName, varName):\n",
    "  parsed = collections.namedtuple('parsed', ['marks', 'bods', 'medianPose', 'mocap_pos'])\n",
    "  marks = dict()\n",
    "  medianPose = dict()\n",
    "  zOffset = dict()\n",
    "  values = sio.loadmat(fileName, variable_names = varName)\n",
    "  bods = list(values[varName].dtype.fields)\n",
    "  for bod in bods:\n",
    "    marks[bod] = values[varName][bod][0][0]/CONVERSION_LENGTH #ASSUMES .MAT TO BE IN MILLIMETERS\n",
    "    zOffset[bod] = np.amin(marks[bod], axis = 0) * [0, 0, 1]\n",
    "  if min(zOffset[min(zOffset)]) < 0:\n",
    "    for bod in bods:\n",
    "      marks[bod] += abs(zOffset[min(zOffset)])\n",
    "  for bod in bods:\n",
    "    if bod == bods[0]:\n",
    "      mocap_pos = marks[bod]\n",
    "    else:\n",
    "      mocap_pos = np.concatenate((mocap_pos, marks[bod]), axis = 1)\n",
    "    medianPose[bod] = np.median(marks[bod], axis = {0})\n",
    "  mocap_pos.shape = (mocap_pos.shape[0], int(mocap_pos.shape[1]/3), 3)\n",
    "  mocap_pos = forFillNan(mocap_pos)\n",
    "  return parsed(marks, bods, medianPose, mocap_pos)"
   ]
  },
  {
   "cell_type": "code",
   "execution_count": 12,
   "metadata": {},
   "outputs": [],
   "source": [
    "def forFillNan(arr):\n",
    "    for m in range(arr.shape[1]):\n",
    "        if any(np.isnan(arr[:, m, 1])):\n",
    "            ind = np.where(np.isnan(arr[:, m, 1])) #only works if all coordinates are NaNs    \n",
    "            for i in ind[0]:\n",
    "                if i == 0:\n",
    "                    arr[i, m, :] = [0, 0, 0]\n",
    "                else:\n",
    "                    arr[i, m, :] = arr[i - 1, m, :].copy()\n",
    "    return arr"
   ]
  },
  {
   "cell_type": "code",
   "execution_count": 13,
   "metadata": {},
   "outputs": [],
   "source": [
    "def showFrame(data, frame, i):\n",
    "    p_i = data.mocap_pos[i, :].copy()\n",
    "    with env.physics.reset_context():\n",
    "        env.physics.data.mocap_pos[:] = p_i\n",
    "    while env.physics.time() < 2. or np.nanmean(abs(env.physics.data.qvel)) > 1e-06:\n",
    "        env.physics.step()\n",
    "    frame = np.hstack([env.physics.render(height, width, camera_id=\"front_side\")])\n",
    "    img = plt.imshow(frame)\n",
    "    plt.waitforbuttonpress()\n",
    "    plt.close()"
   ]
  },
  {
   "cell_type": "code",
   "execution_count": 14,
   "metadata": {},
   "outputs": [],
   "source": [
    "def getFrame(data, i):\n",
    "    p_i = data.mocap_pos[i, :].copy()\n",
    "    with env.physics.reset_context():\n",
    "        env.physics.data.mocap_pos[:] = p_i\n",
    "    while env.physics.time() < 2. or np.nanmean(abs(env.physics.data.qvel)) > 1e-06:\n",
    "        env.physics.step()\n",
    "    return np.hstack([env.physics.render(height, width, camera_id=\"front_side\")])    "
   ]
  },
  {
   "cell_type": "code",
   "execution_count": 15,
   "metadata": {},
   "outputs": [
    {
     "name": "stderr",
     "output_type": "stream",
     "text": [
      "C:\\Users\\RatControl\\Anaconda3\\lib\\site-packages\\numpy\\core\\fromnumeric.py:83: RuntimeWarning: invalid value encountered in reduce\n",
      "  return ufunc.reduce(obj, axis, dtype, out, **passkwargs)\n",
      "C:\\Users\\RatControl\\Anaconda3\\lib\\site-packages\\numpy\\lib\\function_base.py:3250: RuntimeWarning: Invalid value encountered in median for 3 results\n",
      "  r = func(a, **kwargs)\n"
     ]
    }
   ],
   "source": [
    "env = jeffRat.mocap()\n",
    "data = parse(fileName, varName)\n",
    "metadata = dict(title= model_filename + ': ' + fileName, artist='Jeff Rhoades/Jesse Marshall/DeepMind',\n",
    "                  comment=varName)\n",
    "writer = animation.FFMpegWriter(fps=3, metadata=metadata)\n",
    "width = 500\n",
    "height = 500"
   ]
  },
  {
   "cell_type": "code",
   "execution_count": 16,
   "metadata": {},
   "outputs": [],
   "source": [
    "max_frame = min(max_frame, data.mocap_pos.shape[0])\n",
    "max_num_frames = (max_frame - start_frame)//frame_step\n",
    "video = np.zeros((max_num_frames, height, width, 3), dtype=np.uint8)\n",
    "qVid = np.zeros((max_num_frames, env.physics.data.qpos.size), dtype=np.uint8)"
   ]
  },
  {
   "cell_type": "code",
   "execution_count": 17,
   "metadata": {},
   "outputs": [],
   "source": [
    "with env.physics.reset_context():\n",
    "      env.physics.data.qpos[:] = env.physics.model.key_qpos"
   ]
  },
  {
   "cell_type": "code",
   "execution_count": 19,
   "metadata": {},
   "outputs": [],
   "source": [
    "for i in range(start_frame, max_frame, frame_step):\n",
    "    p_i = data.mocap_pos[i, :].copy()\n",
    "    with env.physics.reset_context():\n",
    "      env.physics.data.mocap_pos[:] = p_i\n",
    "    while env.physics.time() < 2. or np.nanmean(abs(env.physics.data.qvel)) > 1e-06:\n",
    "      env.physics.step()\n",
    "\n",
    "    video[(i - start_frame)//frame_step] = np.hstack([env.physics.render(height, width, camera_id=\"front_side\")])\n",
    "    qVid[(i - start_frame)//frame_step] = env.physics.data.qpos[:]"
   ]
  },
  {
   "cell_type": "code",
   "execution_count": null,
   "metadata": {},
   "outputs": [],
   "source": [
    "fig = plt.figure()\n",
    "img = plt.imshow(video[1])"
   ]
  },
  {
   "cell_type": "code",
   "execution_count": null,
   "metadata": {},
   "outputs": [],
   "source": [
    "plt.rcParams['animation.ffmpeg_path'] = r'C:\\Users\\RatControl\\ffmpeg\\bin\\ffmpeg.exe'"
   ]
  },
  {
   "cell_type": "code",
   "execution_count": null,
   "metadata": {},
   "outputs": [],
   "source": [
    "with writer.saving(fig, fileName + \"_vid.mp4\", dpi=None):\n",
    "    for i in range(video.shape[0]):\n",
    "      if i == 0:\n",
    "        img = plt.imshow(video[i])\n",
    "      else:\n",
    "        img.set_data(video[i])\n",
    "      plt.draw()\n",
    "      writer.grab_frame()\n",
    "writer.finish()"
   ]
  },
  {
   "cell_type": "code",
   "execution_count": 27,
   "metadata": {},
   "outputs": [
    {
     "data": {
      "text/plain": [
       "array([[ 9.73277926e-02, -1.11613230e-02,  1.08734119e-01],\n",
       "       [ 7.94162067e-02, -1.62186141e-02,  1.15701790e-01],\n",
       "       [ 7.43458132e-02,  1.07417317e-02,  1.27369634e-01],\n",
       "       [ 3.37840843e-02,  1.00000000e-06,  9.40371937e-02],\n",
       "       [ 1.00000000e-06,  1.00000000e-06,  1.05950729e-01],\n",
       "       [-5.11375357e-02, -4.01853545e-03,  8.53570349e-02],\n",
       "       [ 1.37338658e-02,  2.50540572e-02,  9.57915201e-02],\n",
       "       [-2.31188586e-02,  2.82226992e-02,  9.61352321e-02],\n",
       "       [-6.81922041e-02,  1.39842433e-02,  7.75000700e-02],\n",
       "       [-3.79932853e-02, -2.24907451e-02,  6.62535116e-02],\n",
       "       [ 3.46615604e-02,  1.76026441e-02,  2.60562705e-02],\n",
       "       [ 4.42273303e-02,  1.71157019e-02,  1.90648961e-02],\n",
       "       [ 3.34544863e-02,  2.18996579e-02,  9.02344340e-02],\n",
       "       [ 3.46163425e-02, -1.30273278e-02,  7.64685416e-02],\n",
       "       [ 2.81739495e-02, -1.05859360e-02,  3.28679493e-02],\n",
       "       [ 3.61650649e-02, -7.91491522e-03,  2.27443101e-02],\n",
       "       [-2.24588784e-02, -1.71874240e-02,  5.37731419e-02],\n",
       "       [-5.61454786e-02,  3.51185917e-02,  7.28008181e-02],\n",
       "       [-6.21805459e-02,  2.85057826e-02,  4.91551160e-02],\n",
       "       [-2.84510742e-02, -1.56994244e-02,  4.07912980e-02]])"
      ]
     },
     "execution_count": 27,
     "metadata": {},
     "output_type": "execute_result"
    }
   ],
   "source": [
    "env.physics.data.mocap_pos"
   ]
  }
 ],
 "metadata": {
  "kernelspec": {
   "display_name": "Python 3",
   "language": "python",
   "name": "python3"
  },
  "language_info": {
   "codemirror_mode": {
    "name": "ipython",
    "version": 3
   },
   "file_extension": ".py",
   "mimetype": "text/x-python",
   "name": "python",
   "nbconvert_exporter": "python",
   "pygments_lexer": "ipython3",
   "version": "3.7.1"
  }
 },
 "nbformat": 4,
 "nbformat_minor": 2
}

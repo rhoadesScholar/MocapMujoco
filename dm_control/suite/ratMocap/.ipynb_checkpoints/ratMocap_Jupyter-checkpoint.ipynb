{
 "cells": [
  {
   "cell_type": "code",
   "execution_count": 1,
   "metadata": {},
   "outputs": [],
   "source": [
    "from __future__ import absolute_import\n",
    "from __future__ import division\n",
    "from __future__ import print_function\n",
    "\n",
    "import time\n",
    "\n",
    "from absl import app\n",
    "from absl import flags\n",
    "import collections\n",
    "\n",
    "from dm_control import mujoco\n",
    "from dm_control.rl import control\n",
    "from dm_control.suite import base\n",
    "from dm_control.suite import common\n",
    "from dm_control.suite.utils import randomizers\n",
    "from dm_control.utils import containers\n",
    "\n",
    "import scipy.io as sio\n",
    "import matplotlib\n",
    "matplotlib.use(\"Agg\")\n",
    "import matplotlib.animation as animation\n",
    "import matplotlib.pyplot as plt\n",
    "import numpy as np"
   ]
  },
  {
   "cell_type": "code",
   "execution_count": 2,
   "metadata": {},
   "outputs": [],
   "source": [
    "_DEFAULT_TIME_LIMIT = 20\n",
    "_CONTROL_SUBSTEPS = 100 #for use with control.Environment(... n_sub_steps=#)\n",
    "CONVERSION_LENGTH = 1000 #ASSUMES .MAT TO BE IN MILLIMETERS\n",
    "\n",
    "fileName='.\\\\dataInput\\\\ratMocapImputedUnregisteredDataIn_2'\n",
    "varName='markers_preproc'\n",
    "max_frame=33000\n",
    "start_frame=24000\n",
    "frame_step=100\n",
    "model_filename='ratMocap\\\\models\\\\rodent_mocap_tendon_def2.xml'"
   ]
  },
  {
   "cell_type": "code",
   "execution_count": 3,
   "metadata": {},
   "outputs": [],
   "source": [
    "def get_model_and_assets():\n",
    "  \"\"\"Returns a tuple containing the model XML string and a dict of assets.\"\"\"\n",
    "  return common.read_model(model_filename), common.ASSETS"
   ]
  },
  {
   "cell_type": "code",
   "execution_count": 4,
   "metadata": {},
   "outputs": [],
   "source": [
    "class jeffRat(base.Task):\n",
    "    def __init__(self, random=None):\n",
    "        super(jeffRat, self).__init__(random=random)\n",
    "    def initialize_episode(self, physics):\n",
    "        penetrating = True\n",
    "        while penetrating:\n",
    "            randomizers.randomize_limited_and_rotational_joints(\n",
    "                physics, self.random)\n",
    "            physics.after_reset()\n",
    "            penetrating = physics.data.ncon > 0\n",
    "    def get_observation(self, physics):\n",
    "        obs = collections.OrderedDict()\n",
    "        obs['joint_angles'] = physics.joint_angles()\n",
    "        return obs\n",
    "    def mocap(time_limit=_DEFAULT_TIME_LIMIT, random=None, environment_kwargs=None):\n",
    "        physics = mujoco.Physics.from_xml_string(*get_model_and_assets())\n",
    "        task = jeffRat(random=random)\n",
    "        environment_kwargs = environment_kwargs or {}\n",
    "        return control.Environment(\n",
    "            physics, task, time_limit=time_limit, n_sub_steps=_CONTROL_SUBSTEPS,\n",
    "            **environment_kwargs)\n",
    "    def get_reward(self, physics):\n",
    "        return 0"
   ]
  },
  {
   "cell_type": "code",
   "execution_count": 5,
   "metadata": {},
   "outputs": [],
   "source": [
    "def parse(fileName, varName):\n",
    "  parsed = collections.namedtuple('parsed', ['marks', 'bods', 'medianPose', 'mocap_pos'])\n",
    "  marks = dict()\n",
    "  medianPose = dict()\n",
    "  zOffset = dict()\n",
    "  values = sio.loadmat(fileName, variable_names = varName)\n",
    "  bods = list(values[varName].dtype.fields)\n",
    "  for bod in bods:\n",
    "    marks[bod] = values[varName][bod][0][0]/CONVERSION_LENGTH #ASSUMES .MAT TO BE IN MILLIMETERS\n",
    "    zOffset[bod] = np.amin(marks[bod], axis = 0) * [0, 0, 1]\n",
    "  if min(zOffset[min(zOffset)]) < 0:\n",
    "    for bod in bods:\n",
    "      marks[bod] += abs(zOffset[min(zOffset)])\n",
    "  for bod in bods:\n",
    "    if bod == bods[0]:\n",
    "      mocap_pos = marks[bod]\n",
    "    else:\n",
    "      mocap_pos = np.concatenate((mocap_pos, marks[bod]), axis = 1)\n",
    "    medianPose[bod] = np.median(marks[bod], axis = {0})\n",
    "  mocap_pos.shape = (mocap_pos.shape[0], int(mocap_pos.shape[1]/3), 3)\n",
    "  mocap_pos = forFillNan(mocap_pos)\n",
    "  return parsed(marks, bods, medianPose, mocap_pos)"
   ]
  },
  {
   "cell_type": "code",
   "execution_count": 6,
   "metadata": {},
   "outputs": [],
   "source": [
    "def forFillNan(arr):\n",
    "    for m in range(arr.shape[1]):\n",
    "        if any(np.isnan(arr[:, m, 1])):\n",
    "            ind = np.where(np.isnan(arr[:, m, 1])) #only works if all coordinates are NaNs    \n",
    "            for i in ind[0]:\n",
    "                if i == 0:\n",
    "                    arr[i, m, :] = [0, 0, 0]\n",
    "                else:\n",
    "                    arr[i, m, :] = arr[i - 1, m, :].copy()\n",
    "    return arr"
   ]
  },
  {
   "cell_type": "code",
   "execution_count": 7,
   "metadata": {},
   "outputs": [],
   "source": [
    "def showFrame(data, frame, i):\n",
    "    p_i = data.mocap_pos[i, :].copy()\n",
    "    with env.physics.reset_context():\n",
    "        env.physics.data.mocap_pos[:] = p_i\n",
    "    while env.physics.time() < 2. or np.nanmean(abs(env.physics.data.qvel)) > 1e-06:\n",
    "        env.physics.step()\n",
    "    frame = np.hstack([env.physics.render(height, width, camera_id=\"front_side\")])\n",
    "    img = plt.imshow(frame)\n",
    "    plt.waitforbuttonpress()\n",
    "    plt.close()"
   ]
  },
  {
   "cell_type": "code",
   "execution_count": 8,
   "metadata": {},
   "outputs": [],
   "source": [
    "def getFrame(data, i):\n",
    "    p_i = data.mocap_pos[i, :].copy()\n",
    "    with env.physics.reset_context():\n",
    "        env.physics.data.mocap_pos[:] = p_i\n",
    "    while env.physics.time() < 2. or np.nanmean(abs(env.physics.data.qvel)) > 1e-06:\n",
    "        env.physics.step()\n",
    "    return np.hstack([env.physics.render(height, width, camera_id=\"front_side\")])    "
   ]
  },
  {
   "cell_type": "code",
   "execution_count": 9,
   "metadata": {},
   "outputs": [],
   "source": [
    "env = jeffRat.mocap()\n",
    "data = parse(fileName, varName)\n",
    "metadata = dict(title= model_filename + ': ' + fileName, artist='Jeff Rhoades/Jesse Marshall/DeepMind',\n",
    "                  comment=varName)\n",
    "writer = animation.FFMpegWriter(fps=3, metadata=metadata)\n",
    "width = 500\n",
    "height = 500"
   ]
  },
  {
   "cell_type": "code",
   "execution_count": 10,
   "metadata": {},
   "outputs": [],
   "source": [
    "max_frame = min(max_frame, data.mocap_pos.shape[0])\n",
    "max_num_frames = (max_frame - start_frame)//frame_step\n",
    "video = np.zeros((max_num_frames, height, width, 3), dtype=np.uint8)\n",
    "qVid = np.zeros((max_num_frames, env.physics.data.qpos.size), dtype=np.uint8)"
   ]
  },
  {
   "cell_type": "code",
   "execution_count": 11,
   "metadata": {},
   "outputs": [],
   "source": [
    "with env.physics.reset_context():\n",
    "      env.physics.data.qpos[:] = env.physics.model.key_qpos"
   ]
  },
  {
   "cell_type": "code",
   "execution_count": 12,
   "metadata": {},
   "outputs": [],
   "source": [
    "for i in range(start_frame, max_frame, frame_step):\n",
    "    p_i = data.mocap_pos[i, :].copy()\n",
    "    with env.physics.reset_context():\n",
    "      env.physics.data.mocap_pos[:] = p_i\n",
    "    while env.physics.time() < 2. or np.nanmean(abs(env.physics.data.qvel)) > 1e-06:\n",
    "      env.physics.step()\n",
    "\n",
    "    video[(i - start_frame)//frame_step] = np.hstack([env.physics.render(height, width, camera_id=\"front_side\")])\n",
    "    qVid[(i - start_frame)//frame_step] = env.physics.data.qpos[:]"
   ]
  },
  {
   "cell_type": "code",
   "execution_count": 13,
   "metadata": {},
   "outputs": [],
   "source": [
    "fig = plt.figure()\n",
    "img = plt.imshow(video[1])"
   ]
  },
  {
   "cell_type": "code",
   "execution_count": 14,
   "metadata": {},
   "outputs": [],
   "source": [
    "plt.rcParams['animation.ffmpeg_path'] = r'C:\\Users\\RatControl\\ffmpeg\\bin\\ffmpeg.exe'"
   ]
  },
  {
   "cell_type": "code",
   "execution_count": 15,
   "metadata": {},
   "outputs": [],
   "source": [
    "with writer.saving(fig, fileName + \"_vid.mp4\", dpi=None):\n",
    "    for i in range(video.shape[0]):\n",
    "      if i == 0:\n",
    "        img = plt.imshow(video[i])\n",
    "      else:\n",
    "        img.set_data(video[i])\n",
    "      plt.draw()\n",
    "      writer.grab_frame()\n",
    "writer.finish()"
   ]
  },
  {
   "cell_type": "code",
   "execution_count": 16,
   "metadata": {},
   "outputs": [
    {
     "data": {
      "text/plain": [
       "array([[-0.20050879, -0.01889014,  0.21704356],\n",
       "       [-0.18220117, -0.01266324,  0.22032623],\n",
       "       [-0.17054621, -0.03844966,  0.21035116],\n",
       "       [-0.1333779 ,  0.01014074,  0.1618303 ],\n",
       "       [-0.10832166,  0.01087516,  0.13484954],\n",
       "       [-0.08361758, -0.00404689,  0.09187872],\n",
       "       [-0.1190781 , -0.01097721,  0.14232928],\n",
       "       [-0.10013303, -0.01918055,  0.1170243 ],\n",
       "       [-0.08799545, -0.03027704,  0.08260977],\n",
       "       [-0.0912778 ,  0.01735471,  0.06860284],\n",
       "       [-0.15648688, -0.02727387,  0.12760641],\n",
       "       [-0.16698886, -0.03060118,  0.12748726],\n",
       "       [-0.13816099, -0.0096489 ,  0.15634668],\n",
       "       [-0.15239352,  0.02373856,  0.15573161],\n",
       "       [-0.18088241,  0.02068534,  0.13761258],\n",
       "       [-0.19555689,  0.01331954,  0.15268864],\n",
       "       [-0.11303228,  0.0260468 ,  0.06954454],\n",
       "       [-0.10713802, -0.0367506 ,  0.07903204],\n",
       "       [-0.10983214, -0.03521154,  0.05566167],\n",
       "       [-0.11018158,  0.02075251,  0.04510733]])"
      ]
     },
     "execution_count": 16,
     "metadata": {},
     "output_type": "execute_result"
    }
   ],
   "source": [
    "env.physics.data.mocap_pos"
   ]
  },
  {
   "cell_type": "code",
   "execution_count": 17,
   "metadata": {},
   "outputs": [],
   "source": [
    "def forFillNan(arr):\n",
    "    for m in range(arr.shape[0]):\n",
    "        if any(np.isnan(arr[m, :])):\n",
    "            ind = np.where(np.isnan(arr[m, :])) #only works if all coordinates are NaNs    \n",
    "            for i in ind[0]:\n",
    "                if i == 0:\n",
    "                    arr[i, m, :] = [0, 0, 0]\n",
    "                else:\n",
    "                    arr[i, m, :] = arr[i - 1, m, :].copy()\n",
    "    return arr"
   ]
  },
  {
   "cell_type": "code",
   "execution_count": 18,
   "metadata": {},
   "outputs": [],
   "source": [
    "for bod in data.bods:\n",
    "    data.marks[bod] = forFillNan(data.marks[bod])"
   ]
  },
  {
   "cell_type": "code",
   "execution_count": 19,
   "metadata": {},
   "outputs": [],
   "source": [
    "bod = data.bods[0]"
   ]
  },
  {
   "cell_type": "code",
   "execution_count": 20,
   "metadata": {},
   "outputs": [
    {
     "data": {
      "text/plain": [
       "array([[ 0.1962218 , -0.20207783,  0.12215507],\n",
       "       [ 0.19646578, -0.20028693,  0.13836126],\n",
       "       [ 0.19658452, -0.19864575,  0.15362475],\n",
       "       ...,\n",
       "       [ 0.17846843,  0.02026208,  0.0970722 ],\n",
       "       [ 0.17874677,  0.0200602 ,  0.09720005],\n",
       "       [ 0.17904574,  0.01983942,  0.0972932 ]])"
      ]
     },
     "execution_count": 20,
     "metadata": {},
     "output_type": "execute_result"
    }
   ],
   "source": [
    "data.marks[bod]"
   ]
  },
  {
   "cell_type": "code",
   "execution_count": 46,
   "metadata": {},
   "outputs": [
    {
     "name": "stdout",
     "output_type": "stream",
     "text": [
      "[-9.26438875e-02  8.91518317e-05]\n"
     ]
    }
   ],
   "source": [
    "physics = env.physics\n",
    "qpos = physics.data.qpos[:2]\n",
    "print(qpos)"
   ]
  },
  {
   "cell_type": "code",
   "execution_count": 197,
   "metadata": {},
   "outputs": [],
   "source": [
    "goalAngles = np.array([[30, 90], [45, 30], [90, 45]])"
   ]
  },
  {
   "cell_type": "code",
   "execution_count": 292,
   "metadata": {},
   "outputs": [
    {
     "name": "stdout",
     "output_type": "stream",
     "text": [
      "yeah\n",
      "yeah\n",
      "no\n"
     ]
    }
   ],
   "source": [
    "for i in goalAngles:\n",
    "    if not all(i == goalAngles[-1]):\n",
    "        print('yeah')\n",
    "    else:\n",
    "        print('no')"
   ]
  },
  {
   "cell_type": "code",
   "execution_count": 298,
   "metadata": {},
   "outputs": [
    {
     "data": {
      "text/plain": [
       "array([ 1, -1,  1, -1,  1, -1])"
      ]
     },
     "execution_count": 298,
     "metadata": {},
     "output_type": "execute_result"
    }
   ],
   "source": [
    "1*(dOut == 0) - 1*(dOut > 0)"
   ]
  },
  {
   "cell_type": "code",
   "execution_count": 75,
   "metadata": {},
   "outputs": [],
   "source": [
    "vec = np.array([[1, 0], [-1, 0], [0, 1], [0, -1], [1, 1], [-1, -1]])\n",
    "oldDeltaQ = np.zeros(qpos.shape)\n",
    "newDeltaQ = qpos[:2] - i"
   ]
  },
  {
   "cell_type": "code",
   "execution_count": 188,
   "metadata": {
    "scrolled": true
   },
   "outputs": [],
   "source": [
    "dOut = np.sum(vec*newDeltaQ, 1)\n",
    "dOut = dOut*(dOut > 0)\n",
    "dDeltaQ = newDeltaQ - oldDeltaQ\n",
    "\n",
    "alphaNorm = np.max(abs(np.degrees(physics.model.jnt_range[:2])), 1)\n",
    "alphaNorm = alphaNorm + 1*(alphaNorm == 0)\n",
    "alpha = np.sum(vec*dDeltaQ/alphaNorm, 1)\n",
    "alpha = 1 + alpha*(alpha < 0)"
   ]
  },
  {
   "cell_type": "code",
   "execution_count": 190,
   "metadata": {},
   "outputs": [
    {
     "data": {
      "text/plain": [
       "array([  1., 180.])"
      ]
     },
     "execution_count": 190,
     "metadata": {},
     "output_type": "execute_result"
    }
   ],
   "source": [
    "alphaNorm"
   ]
  },
  {
   "cell_type": "code",
   "execution_count": 157,
   "metadata": {},
   "outputs": [
    {
     "data": {
      "text/plain": [
       "array([180., 180.])"
      ]
     },
     "execution_count": 157,
     "metadata": {},
     "output_type": "execute_result"
    }
   ],
   "source": [
    "np.max(abs(np.degrees(physics.model.jnt_range[1:3])), 1)"
   ]
  },
  {
   "cell_type": "code",
   "execution_count": 158,
   "metadata": {},
   "outputs": [
    {
     "data": {
      "text/plain": [
       "array([[   0.,    0.],\n",
       "       [-180.,  180.],\n",
       "       [-180.,  180.]])"
      ]
     },
     "execution_count": 158,
     "metadata": {},
     "output_type": "execute_result"
    }
   ],
   "source": [
    "np.degrees(physics.model.jnt_range[:3])"
   ]
  },
  {
   "cell_type": "code",
   "execution_count": 168,
   "metadata": {},
   "outputs": [
    {
     "data": {
      "text/plain": [
       "array([  0.        ,  90.18528778,   0.        ,  59.9998217 ,\n",
       "         0.        , 150.18510947])"
      ]
     },
     "execution_count": 168,
     "metadata": {},
     "output_type": "execute_result"
    }
   ],
   "source": [
    "out = dOut + alpha*out"
   ]
  },
  {
   "cell_type": "code",
   "execution_count": 263,
   "metadata": {},
   "outputs": [
    {
     "data": {
      "text/plain": [
       "0.7333333333333334"
      ]
     },
     "execution_count": 263,
     "metadata": {},
     "output_type": "execute_result"
    }
   ],
   "source": []
  },
  {
   "cell_type": "code",
   "execution_count": 272,
   "metadata": {},
   "outputs": [
    {
     "data": {
      "text/plain": [
       "array([-45.09264389, -29.99991085])"
      ]
     },
     "execution_count": 272,
     "metadata": {},
     "output_type": "execute_result"
    }
   ],
   "source": [
    "newDeltaQ"
   ]
  },
  {
   "cell_type": "code",
   "execution_count": 174,
   "metadata": {},
   "outputs": [
    {
     "ename": "AttributeError",
     "evalue": "can't set attribute",
     "output_type": "error",
     "traceback": [
      "\u001b[1;31m---------------------------------------------------------------------------\u001b[0m",
      "\u001b[1;31mAttributeError\u001b[0m                            Traceback (most recent call last)",
      "\u001b[1;32m<ipython-input-174-d21d8c8defb4>\u001b[0m in \u001b[0;36m<module>\u001b[1;34m\u001b[0m\n\u001b[0;32m      2\u001b[0m \u001b[0mhandle\u001b[0m \u001b[1;33m=\u001b[0m \u001b[0mcollections\u001b[0m\u001b[1;33m.\u001b[0m\u001b[0mnamedtuple\u001b[0m\u001b[1;33m(\u001b[0m\u001b[1;34m'handle'\u001b[0m\u001b[1;33m,\u001b[0m \u001b[1;33m[\u001b[0m\u001b[1;34m'a'\u001b[0m\u001b[1;33m,\u001b[0m \u001b[1;34m'b'\u001b[0m\u001b[1;33m,\u001b[0m \u001b[1;34m'c'\u001b[0m\u001b[1;33m,\u001b[0m \u001b[1;34m'd'\u001b[0m\u001b[1;33m]\u001b[0m\u001b[1;33m)\u001b[0m\u001b[1;33m\u001b[0m\u001b[1;33m\u001b[0m\u001b[0m\n\u001b[0;32m      3\u001b[0m \u001b[0mh\u001b[0m \u001b[1;33m=\u001b[0m \u001b[0mhandle\u001b[0m\u001b[1;33m(\u001b[0m\u001b[1;36m1\u001b[0m\u001b[1;33m,\u001b[0m \u001b[1;33m[\u001b[0m\u001b[1;33m]\u001b[0m\u001b[1;33m,\u001b[0m \u001b[1;36m3\u001b[0m\u001b[1;33m,\u001b[0m \u001b[1;33m[\u001b[0m\u001b[1;33m]\u001b[0m\u001b[1;33m)\u001b[0m\u001b[1;33m\u001b[0m\u001b[1;33m\u001b[0m\u001b[0m\n\u001b[1;32m----> 4\u001b[1;33m \u001b[0mh\u001b[0m\u001b[1;33m.\u001b[0m\u001b[0mb\u001b[0m \u001b[1;33m=\u001b[0m \u001b[1;36m2\u001b[0m\u001b[1;33m\u001b[0m\u001b[1;33m\u001b[0m\u001b[0m\n\u001b[0m",
      "\u001b[1;31mAttributeError\u001b[0m: can't set attribute"
     ]
    }
   ],
   "source": [
    "import collections\n",
    "handle = collections.namedtuple('handle', ['a', 'b', 'c', 'd'])\n",
    "h = handle(1, [], 3, [])\n",
    "h.b = 2"
   ]
  },
  {
   "cell_type": "code",
   "execution_count": 267,
   "metadata": {},
   "outputs": [
    {
     "data": {
      "text/plain": [
       "array([  0.        ,  90.18528778,   0.        ,  59.9998217 ,\n",
       "         0.        , 150.18510947])"
      ]
     },
     "execution_count": 267,
     "metadata": {},
     "output_type": "execute_result"
    }
   ],
   "source": [
    "anti = out*(dOut > 0)\n",
    "anti"
   ]
  },
  {
   "cell_type": "code",
   "execution_count": 212,
   "metadata": {},
   "outputs": [
    {
     "data": {
      "text/plain": [
       "array([[ 1,  0],\n",
       "       [-1,  0],\n",
       "       [ 0,  1],\n",
       "       [ 0, -1],\n",
       "       [ 1,  1],\n",
       "       [-1, -1]])"
      ]
     },
     "execution_count": 212,
     "metadata": {},
     "output_type": "execute_result"
    }
   ],
   "source": [
    "vec"
   ]
  },
  {
   "cell_type": "code",
   "execution_count": 456,
   "metadata": {},
   "outputs": [
    {
     "data": {
      "text/plain": [
       "array([-240.37039725,    0.        ,   -1.16769406,    0.        ,\n",
       "       -241.53809131,    0.        ])"
      ]
     },
     "execution_count": 456,
     "metadata": {},
     "output_type": "execute_result"
    }
   ],
   "source": [
    "anti = np.sum(anti*(anti < 0),1)\n",
    "anti"
   ]
  },
  {
   "cell_type": "code",
   "execution_count": 275,
   "metadata": {},
   "outputs": [
    {
     "data": {
      "text/plain": [
       "array([-45.09264389,  45.09264389, -29.99991085,  29.99991085,\n",
       "       -75.09255474,  75.09255474])"
      ]
     },
     "execution_count": 275,
     "metadata": {},
     "output_type": "execute_result"
    }
   ],
   "source": [
    "np.sum(vec*newDeltaQ, 1)"
   ]
  },
  {
   "cell_type": "code",
   "execution_count": 311,
   "metadata": {},
   "outputs": [],
   "source": [
    "fileName = r'C:\\Users\\RatControl\\Anaconda3\\Lib\\site-packages\\dm_control\\suite\\ratMocap\\dataInput\\nolj_Recording_day3_morning2_nolj_imputed_JDM25_scaled.mat'\n",
    "import os\n",
    "from pathlib import Path\n",
    "inFile = Path(fileName).absolute()"
   ]
  },
  {
   "cell_type": "code",
   "execution_count": 450,
   "metadata": {},
   "outputs": [
    {
     "data": {
      "text/plain": [
       "array([[ True,  True],\n",
       "       [ True,  True],\n",
       "       [ True,  True],\n",
       "       [ True,  True],\n",
       "       [ True,  True],\n",
       "       [ True,  True]])"
      ]
     },
     "execution_count": 450,
     "metadata": {},
     "output_type": "execute_result"
    }
   ],
   "source": [
    "anti*vec == vec*anti"
   ]
  },
  {
   "cell_type": "code",
   "execution_count": 488,
   "metadata": {},
   "outputs": [
    {
     "ename": "AttributeError",
     "evalue": "'MjModel' object has no attribute 'labels'",
     "output_type": "error",
     "traceback": [
      "\u001b[1;31m---------------------------------------------------------------------------\u001b[0m",
      "\u001b[1;31mAttributeError\u001b[0m                            Traceback (most recent call last)",
      "\u001b[1;32m<ipython-input-488-ff4698bed0a0>\u001b[0m in \u001b[0;36m<module>\u001b[1;34m\u001b[0m\n\u001b[1;32m----> 1\u001b[1;33m \u001b[0menv\u001b[0m\u001b[1;33m.\u001b[0m\u001b[0mphysics\u001b[0m\u001b[1;33m.\u001b[0m\u001b[0mmodel\u001b[0m\u001b[1;33m.\u001b[0m\u001b[0mlabels\u001b[0m\u001b[1;33m\u001b[0m\u001b[1;33m\u001b[0m\u001b[0m\n\u001b[0m",
      "\u001b[1;31mAttributeError\u001b[0m: 'MjModel' object has no attribute 'labels'"
     ]
    }
   ],
   "source": [
    "env.physics.model.labels"
   ]
  },
  {
   "cell_type": "code",
   "execution_count": 360,
   "metadata": {},
   "outputs": [
    {
     "data": {
      "text/plain": [
       "array([[-0.        , 45.09264389, -0.        , -0.        , -0.        ,\n",
       "        45.09264389],\n",
       "       [-0.        , -0.        , -0.        ,  0.16666617, -0.        ,\n",
       "         0.16666617]])"
      ]
     },
     "execution_count": 360,
     "metadata": {},
     "output_type": "execute_result"
    }
   ],
   "source": [
    "(dOut > 0)*(vec*newDeltaQ/alphaNorm).transpose()"
   ]
  },
  {
   "cell_type": "code",
   "execution_count": 424,
   "metadata": {},
   "outputs": [
    {
     "ename": "ValueError",
     "evalue": "operands could not be broadcast together with shapes (2,) (2,6) ",
     "output_type": "error",
     "traceback": [
      "\u001b[1;31m---------------------------------------------------------------------------\u001b[0m",
      "\u001b[1;31mValueError\u001b[0m                                Traceback (most recent call last)",
      "\u001b[1;32m<ipython-input-424-a4bc494b1707>\u001b[0m in \u001b[0;36m<module>\u001b[1;34m\u001b[0m\n\u001b[1;32m----> 1\u001b[1;33m \u001b[0manti\u001b[0m \u001b[1;33m=\u001b[0m \u001b[0manti\u001b[0m\u001b[1;33m+\u001b[0m\u001b[1;33m[\u001b[0m\u001b[1;33m[\u001b[0m\u001b[1;36m1\u001b[0m\u001b[1;33m,\u001b[0m \u001b[1;36m0\u001b[0m\u001b[1;33m,\u001b[0m \u001b[1;36m0\u001b[0m\u001b[1;33m,\u001b[0m \u001b[1;36m0\u001b[0m\u001b[1;33m,\u001b[0m \u001b[1;36m0\u001b[0m\u001b[1;33m,\u001b[0m \u001b[1;36m0\u001b[0m\u001b[1;33m]\u001b[0m\u001b[1;33m,\u001b[0m\u001b[1;33m[\u001b[0m\u001b[1;36m0\u001b[0m\u001b[1;33m,\u001b[0m \u001b[1;36m1\u001b[0m\u001b[1;33m,\u001b[0m \u001b[1;36m0\u001b[0m\u001b[1;33m,\u001b[0m \u001b[1;36m0\u001b[0m\u001b[1;33m,\u001b[0m \u001b[1;36m0\u001b[0m\u001b[1;33m,\u001b[0m \u001b[1;36m0\u001b[0m\u001b[1;33m]\u001b[0m\u001b[1;33m]\u001b[0m\u001b[1;33m\u001b[0m\u001b[1;33m\u001b[0m\u001b[0m\n\u001b[0m\u001b[0;32m      2\u001b[0m \u001b[0mnp\u001b[0m\u001b[1;33m.\u001b[0m\u001b[0msum\u001b[0m\u001b[1;33m(\u001b[0m\u001b[0manti\u001b[0m\u001b[1;33m,\u001b[0m \u001b[1;36m1\u001b[0m\u001b[1;33m)\u001b[0m\u001b[1;33m\u001b[0m\u001b[1;33m\u001b[0m\u001b[0m\n",
      "\u001b[1;31mValueError\u001b[0m: operands could not be broadcast together with shapes (2,) (2,6) "
     ]
    }
   ],
   "source": [
    "anti = anti+[[1, 0, 0, 0, 0, 0],[0, 1, 0, 0, 0, 0]]\n",
    "np.sum(anti, 1)"
   ]
  },
  {
   "cell_type": "code",
   "execution_count": 423,
   "metadata": {},
   "outputs": [
    {
     "data": {
      "text/plain": [
       "array([90.18528778,  0.        ,  0.33333234,  0.        , 90.51862012,\n",
       "        0.        ])"
      ]
     },
     "execution_count": 423,
     "metadata": {},
     "output_type": "execute_result"
    }
   ],
   "source": [
    "anti = np.sum((dOut > 0)*(vec*newDeltaQ/alphaNorm).transpose(), 1)\n",
    "np.sum(anti*(vec > 0), 1)"
   ]
  },
  {
   "cell_type": "code",
   "execution_count": 379,
   "metadata": {},
   "outputs": [
    {
     "data": {
      "text/plain": [
       "array([[   0.        ,  -90.18528778,    0.        ,    0.        ,\n",
       "           0.        , -150.18510947],\n",
       "       [   0.        ,    0.        ,    0.        ,  -59.9998217 ,\n",
       "           0.        , -150.18510947]])"
      ]
     },
     "execution_count": 379,
     "metadata": {},
     "output_type": "execute_result"
    }
   ],
   "source": [
    "ext = np.sum(((dOut >= 0)*out*(vec < 0).transpose()), 1)"
   ]
  },
  {
   "cell_type": "code",
   "execution_count": 455,
   "metadata": {
    "scrolled": true
   },
   "outputs": [],
   "source": [
    "anti = vec*np.sum(((dOut >= 0)*out*vec.transpose()), 1)/alphaNorm"
   ]
  },
  {
   "cell_type": "code",
   "execution_count": 6,
   "metadata": {},
   "outputs": [
    {
     "ename": "OSError",
     "evalue": "Unable to open file (file signature not found)",
     "output_type": "error",
     "traceback": [
      "\u001b[1;31m---------------------------------------------------------------------------\u001b[0m",
      "\u001b[1;31mOSError\u001b[0m                                   Traceback (most recent call last)",
      "\u001b[1;32m<ipython-input-6-dcf51f67d61f>\u001b[0m in \u001b[0;36m<module>\u001b[1;34m\u001b[0m\n\u001b[0;32m      1\u001b[0m \u001b[1;32mimport\u001b[0m \u001b[0mnumpy\u001b[0m \u001b[1;32mas\u001b[0m \u001b[0mnp\u001b[0m\u001b[1;33m,\u001b[0m \u001b[0mh5py\u001b[0m\u001b[1;33m\u001b[0m\u001b[1;33m\u001b[0m\u001b[0m\n\u001b[1;32m----> 2\u001b[1;33m \u001b[0mf\u001b[0m \u001b[1;33m=\u001b[0m \u001b[0mh5py\u001b[0m\u001b[1;33m.\u001b[0m\u001b[0mFile\u001b[0m\u001b[1;33m(\u001b[0m\u001b[1;34m'.\\\\dataInput\\\\mujocosnippets_Baseline1_JDM27.mat'\u001b[0m\u001b[1;33m,\u001b[0m\u001b[1;34m'r'\u001b[0m\u001b[1;33m)\u001b[0m\u001b[1;33m\u001b[0m\u001b[1;33m\u001b[0m\u001b[0m\n\u001b[0m\u001b[0;32m      3\u001b[0m \u001b[0mdata\u001b[0m \u001b[1;33m=\u001b[0m \u001b[0mf\u001b[0m\u001b[1;33m.\u001b[0m\u001b[0mget\u001b[0m\u001b[1;33m(\u001b[0m\u001b[1;34m'data/variable1'\u001b[0m\u001b[1;33m)\u001b[0m \u001b[1;31m# Get a certain dataset\u001b[0m\u001b[1;33m\u001b[0m\u001b[1;33m\u001b[0m\u001b[0m\n\u001b[0;32m      4\u001b[0m \u001b[0mdata\u001b[0m \u001b[1;33m=\u001b[0m \u001b[0mnp\u001b[0m\u001b[1;33m.\u001b[0m\u001b[0marray\u001b[0m\u001b[1;33m(\u001b[0m\u001b[0mdata\u001b[0m\u001b[1;33m)\u001b[0m\u001b[1;33m\u001b[0m\u001b[1;33m\u001b[0m\u001b[0m\n",
      "\u001b[1;32m~\\Anaconda3\\lib\\site-packages\\h5py\\_hl\\files.py\u001b[0m in \u001b[0;36m__init__\u001b[1;34m(self, name, mode, driver, libver, userblock_size, swmr, **kwds)\u001b[0m\n\u001b[0;32m    310\u001b[0m             \u001b[1;32mwith\u001b[0m \u001b[0mphil\u001b[0m\u001b[1;33m:\u001b[0m\u001b[1;33m\u001b[0m\u001b[1;33m\u001b[0m\u001b[0m\n\u001b[0;32m    311\u001b[0m                 \u001b[0mfapl\u001b[0m \u001b[1;33m=\u001b[0m \u001b[0mmake_fapl\u001b[0m\u001b[1;33m(\u001b[0m\u001b[0mdriver\u001b[0m\u001b[1;33m,\u001b[0m \u001b[0mlibver\u001b[0m\u001b[1;33m,\u001b[0m \u001b[1;33m**\u001b[0m\u001b[0mkwds\u001b[0m\u001b[1;33m)\u001b[0m\u001b[1;33m\u001b[0m\u001b[1;33m\u001b[0m\u001b[0m\n\u001b[1;32m--> 312\u001b[1;33m                 \u001b[0mfid\u001b[0m \u001b[1;33m=\u001b[0m \u001b[0mmake_fid\u001b[0m\u001b[1;33m(\u001b[0m\u001b[0mname\u001b[0m\u001b[1;33m,\u001b[0m \u001b[0mmode\u001b[0m\u001b[1;33m,\u001b[0m \u001b[0muserblock_size\u001b[0m\u001b[1;33m,\u001b[0m \u001b[0mfapl\u001b[0m\u001b[1;33m,\u001b[0m \u001b[0mswmr\u001b[0m\u001b[1;33m=\u001b[0m\u001b[0mswmr\u001b[0m\u001b[1;33m)\u001b[0m\u001b[1;33m\u001b[0m\u001b[1;33m\u001b[0m\u001b[0m\n\u001b[0m\u001b[0;32m    313\u001b[0m \u001b[1;33m\u001b[0m\u001b[0m\n\u001b[0;32m    314\u001b[0m                 \u001b[1;32mif\u001b[0m \u001b[0mswmr_support\u001b[0m\u001b[1;33m:\u001b[0m\u001b[1;33m\u001b[0m\u001b[1;33m\u001b[0m\u001b[0m\n",
      "\u001b[1;32m~\\Anaconda3\\lib\\site-packages\\h5py\\_hl\\files.py\u001b[0m in \u001b[0;36mmake_fid\u001b[1;34m(name, mode, userblock_size, fapl, fcpl, swmr)\u001b[0m\n\u001b[0;32m    140\u001b[0m         \u001b[1;32mif\u001b[0m \u001b[0mswmr\u001b[0m \u001b[1;32mand\u001b[0m \u001b[0mswmr_support\u001b[0m\u001b[1;33m:\u001b[0m\u001b[1;33m\u001b[0m\u001b[1;33m\u001b[0m\u001b[0m\n\u001b[0;32m    141\u001b[0m             \u001b[0mflags\u001b[0m \u001b[1;33m|=\u001b[0m \u001b[0mh5f\u001b[0m\u001b[1;33m.\u001b[0m\u001b[0mACC_SWMR_READ\u001b[0m\u001b[1;33m\u001b[0m\u001b[1;33m\u001b[0m\u001b[0m\n\u001b[1;32m--> 142\u001b[1;33m         \u001b[0mfid\u001b[0m \u001b[1;33m=\u001b[0m \u001b[0mh5f\u001b[0m\u001b[1;33m.\u001b[0m\u001b[0mopen\u001b[0m\u001b[1;33m(\u001b[0m\u001b[0mname\u001b[0m\u001b[1;33m,\u001b[0m \u001b[0mflags\u001b[0m\u001b[1;33m,\u001b[0m \u001b[0mfapl\u001b[0m\u001b[1;33m=\u001b[0m\u001b[0mfapl\u001b[0m\u001b[1;33m)\u001b[0m\u001b[1;33m\u001b[0m\u001b[1;33m\u001b[0m\u001b[0m\n\u001b[0m\u001b[0;32m    143\u001b[0m     \u001b[1;32melif\u001b[0m \u001b[0mmode\u001b[0m \u001b[1;33m==\u001b[0m \u001b[1;34m'r+'\u001b[0m\u001b[1;33m:\u001b[0m\u001b[1;33m\u001b[0m\u001b[1;33m\u001b[0m\u001b[0m\n\u001b[0;32m    144\u001b[0m         \u001b[0mfid\u001b[0m \u001b[1;33m=\u001b[0m \u001b[0mh5f\u001b[0m\u001b[1;33m.\u001b[0m\u001b[0mopen\u001b[0m\u001b[1;33m(\u001b[0m\u001b[0mname\u001b[0m\u001b[1;33m,\u001b[0m \u001b[0mh5f\u001b[0m\u001b[1;33m.\u001b[0m\u001b[0mACC_RDWR\u001b[0m\u001b[1;33m,\u001b[0m \u001b[0mfapl\u001b[0m\u001b[1;33m=\u001b[0m\u001b[0mfapl\u001b[0m\u001b[1;33m)\u001b[0m\u001b[1;33m\u001b[0m\u001b[1;33m\u001b[0m\u001b[0m\n",
      "\u001b[1;32mh5py\\_objects.pyx\u001b[0m in \u001b[0;36mh5py._objects.with_phil.wrapper\u001b[1;34m()\u001b[0m\n",
      "\u001b[1;32mh5py\\_objects.pyx\u001b[0m in \u001b[0;36mh5py._objects.with_phil.wrapper\u001b[1;34m()\u001b[0m\n",
      "\u001b[1;32mh5py\\h5f.pyx\u001b[0m in \u001b[0;36mh5py.h5f.open\u001b[1;34m()\u001b[0m\n",
      "\u001b[1;31mOSError\u001b[0m: Unable to open file (file signature not found)"
     ]
    }
   ],
   "source": [
    "import numpy as np, h5py \n",
    "f = h5py.File('.\\\\dataInput\\\\mujocosnippets_Baseline1_JDM27.mat','r') \n",
    "data = f.get('data/variable1') # Get a certain dataset\n",
    "data = np.array(data)"
   ]
  },
  {
   "cell_type": "code",
   "execution_count": null,
   "metadata": {},
   "outputs": [],
   "source": []
  }
 ],
 "metadata": {
  "kernelspec": {
   "display_name": "Python 3",
   "language": "python",
   "name": "python3"
  },
  "language_info": {
   "codemirror_mode": {
    "name": "ipython",
    "version": 3
   },
   "file_extension": ".py",
   "mimetype": "text/x-python",
   "name": "python",
   "nbconvert_exporter": "python",
   "pygments_lexer": "ipython3",
   "version": "3.7.1"
  }
 },
 "nbformat": 4,
 "nbformat_minor": 2
}
